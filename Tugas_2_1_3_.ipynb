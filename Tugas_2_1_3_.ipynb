{
  "nbformat": 4,
  "nbformat_minor": 0,
  "metadata": {
    "colab": {
      "provenance": [],
      "authorship_tag": "ABX9TyMidtebVODHR6Isx8CB+jHR",
      "include_colab_link": true
    },
    "kernelspec": {
      "name": "python3",
      "display_name": "Python 3"
    },
    "language_info": {
      "name": "python"
    }
  },
  "cells": [
    {
      "cell_type": "markdown",
      "metadata": {
        "id": "view-in-github",
        "colab_type": "text"
      },
      "source": [
        "<a href=\"https://colab.research.google.com/github/mafazann/informed-search/blob/main/Tugas_2_1_3_.ipynb\" target=\"_parent\"><img src=\"https://colab.research.google.com/assets/colab-badge.svg\" alt=\"Open In Colab\"/></a>"
      ]
    },
    {
      "cell_type": "code",
      "execution_count": 1,
      "metadata": {
        "id": "z6u2cPPIiyCg"
      },
      "outputs": [],
      "source": [
        "DAG = {\n",
        "    'A': {'C': 4, 'G': 9},\n",
        "    'G': {'E': 6},\n",
        "    'C': {'D': 6, 'H': 12},\n",
        "    'D': {'E': 7},\n",
        "    'H': {'F': 15},\n",
        "    'E': {'F': 8},\n",
        "    'F': {'B': 5}\n",
        "}"
      ]
    },
    {
      "cell_type": "code",
      "source": [
        "def shortest_path(graph, source, dest):\n",
        "    result = []\n",
        "    result.append(source)\n",
        "\n",
        "    while dest not in result:\n",
        "        current_node = result[-1]\n",
        "        local_max = min(graph[current_node].values())\n",
        "        for node, weight in graph[current_node].items():\n",
        "            if weight == local_max:\n",
        "                result.append(node)\n",
        "    return result"
      ],
      "metadata": {
        "id": "iIKeJciUi7O1"
      },
      "execution_count": 2,
      "outputs": []
    },
    {
      "cell_type": "code",
      "source": [
        "print(shortest_path(DAG, 'A', 'B'))"
      ],
      "metadata": {
        "colab": {
          "base_uri": "https://localhost:8080/"
        },
        "id": "LNTgJeC1i9Dd",
        "outputId": "c3714d3f-5572-46c1-fe91-4cec9ba12f74"
      },
      "execution_count": 4,
      "outputs": [
        {
          "output_type": "stream",
          "name": "stdout",
          "text": [
            "['A', 'C', 'D', 'E', 'F', 'B']\n"
          ]
        }
      ]
    }
  ]
}