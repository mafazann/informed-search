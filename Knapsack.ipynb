{
  "nbformat": 4,
  "nbformat_minor": 0,
  "metadata": {
    "colab": {
      "provenance": [],
      "collapsed_sections": [],
      "authorship_tag": "ABX9TyOnQhZ87+ELvzWCDyKQJONP",
      "include_colab_link": true
    },
    "kernelspec": {
      "name": "python3",
      "display_name": "Python 3"
    },
    "language_info": {
      "name": "python"
    }
  },
  "cells": [
    {
      "cell_type": "markdown",
      "metadata": {
        "id": "view-in-github",
        "colab_type": "text"
      },
      "source": [
        "<a href=\"https://colab.research.google.com/github/mafazann/informed-search/blob/main/Knapsack.ipynb\" target=\"_parent\"><img src=\"https://colab.research.google.com/assets/colab-badge.svg\" alt=\"Open In Colab\"/></a>"
      ]
    },
    {
      "cell_type": "code",
      "execution_count": 1,
      "metadata": {
        "id": "s-fwVdwqeg1H"
      },
      "outputs": [],
      "source": [
        "from operator import itemgetter, attrgetter\n",
        "w = [3, 4, 1, 7, 6, 8, 9]\n",
        "p = [4, 5, 2, 5, 5, 8, 11]\n",
        "item = [[3, 4], [4, 5], [1, 2], [7, 5], [6, 5], [8, 8], [9, 11]]"
      ]
    },
    {
      "cell_type": "code",
      "source": [
        "i = 0\n",
        "while i < len(item):\n",
        "    hasil = item[i][1] / item[i][0]\n",
        "    item[i].append(hasil)\n",
        "    i += 1\n",
        "\n",
        "data = sorted(item, key=itemgetter(2), reverse=True)\n",
        "\n",
        "def knapsack(data, cap, flag):\n",
        "    total = 0\n",
        "    tres = \"\"\n",
        "    if (flag == 0):\n",
        "        dataS = sorted(data, key=itemgetter(flag), reverse=True)\n",
        "        tres = \"bobot prioritas : \"\n",
        "    elif (flag == 1):\n",
        "        dataS = sorted(data, key=itemgetter(flag), reverse=True)\n",
        "        tres = \"keuntungan prioritas : \"\n",
        "    elif (flag == 2):\n",
        "        dataS = sorted(data, key=itemgetter(flag), reverse=True)\n",
        "        tres = \"p prioritas : \"\n",
        "    else:\n",
        "        return \"Error\"\n",
        "\n",
        "    j = 0\n",
        "    hasil = 0\n",
        "    #print(\"sini\")\n",
        "    cek = 0\n",
        "    weight = 0\n",
        "    while (j < len(dataS)):\n",
        "\n",
        "        if (cek + dataS[j][0] <= cap):\n",
        "            hasil = hasil + dataS[j][1]\n",
        "            weight = weight + dataS[j][0]\n",
        "            print(dataS[j][0])\n",
        "        cek = weight\n",
        "        j+=1;\n",
        "        #print(\"here\")\n",
        "    return (\"Optimal dalam \" + str(tres) + str(hasil))\n",
        "\n",
        "print(knapsack(item, 20, 0))\n",
        "print(knapsack(item, 20, 1))\n",
        "print(knapsack(item, 20, 2))"
      ],
      "metadata": {
        "colab": {
          "base_uri": "https://localhost:8080/"
        },
        "id": "K8rLDhSfe2sd",
        "outputId": "132b1cf8-f0d7-484b-d460-08ef5d8cc1c0"
      },
      "execution_count": 2,
      "outputs": [
        {
          "output_type": "stream",
          "name": "stdout",
          "text": [
            "9\n",
            "8\n",
            "3\n",
            "Optimal dalam bobot prioritas : 23\n",
            "9\n",
            "8\n",
            "3\n",
            "Optimal dalam keuntungan prioritas : 23\n",
            "1\n",
            "3\n",
            "4\n",
            "9\n",
            "Optimal dalam p prioritas : 22\n"
          ]
        }
      ]
    }
  ]
}